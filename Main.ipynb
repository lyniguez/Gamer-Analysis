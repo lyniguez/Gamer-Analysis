{
 "cells": [
  {
   "cell_type": "code",
   "execution_count": 35,
   "metadata": {
    "collapsed": true
   },
   "outputs": [],
   "source": [
    "import pandas as pd\n",
    "import numpy as np"
   ]
  },
  {
   "cell_type": "code",
   "execution_count": 36,
   "metadata": {},
   "outputs": [
    {
     "data": {
      "text/html": [
       "<div>\n",
       "<style>\n",
       "    .dataframe thead tr:only-child th {\n",
       "        text-align: right;\n",
       "    }\n",
       "\n",
       "    .dataframe thead th {\n",
       "        text-align: left;\n",
       "    }\n",
       "\n",
       "    .dataframe tbody tr th {\n",
       "        vertical-align: top;\n",
       "    }\n",
       "</style>\n",
       "<table border=\"1\" class=\"dataframe\">\n",
       "  <thead>\n",
       "    <tr style=\"text-align: right;\">\n",
       "      <th></th>\n",
       "      <th>Age</th>\n",
       "      <th>Gender</th>\n",
       "      <th>Item ID</th>\n",
       "      <th>Item Name</th>\n",
       "      <th>Price</th>\n",
       "      <th>SN</th>\n",
       "    </tr>\n",
       "  </thead>\n",
       "  <tbody>\n",
       "    <tr>\n",
       "      <th>0</th>\n",
       "      <td>38</td>\n",
       "      <td>Male</td>\n",
       "      <td>165</td>\n",
       "      <td>Bone Crushing Silver Skewer</td>\n",
       "      <td>3.37</td>\n",
       "      <td>Aelalis34</td>\n",
       "    </tr>\n",
       "    <tr>\n",
       "      <th>1</th>\n",
       "      <td>21</td>\n",
       "      <td>Male</td>\n",
       "      <td>119</td>\n",
       "      <td>Stormbringer, Dark Blade of Ending Misery</td>\n",
       "      <td>2.32</td>\n",
       "      <td>Eolo46</td>\n",
       "    </tr>\n",
       "    <tr>\n",
       "      <th>2</th>\n",
       "      <td>34</td>\n",
       "      <td>Male</td>\n",
       "      <td>174</td>\n",
       "      <td>Primitive Blade</td>\n",
       "      <td>2.46</td>\n",
       "      <td>Assastnya25</td>\n",
       "    </tr>\n",
       "    <tr>\n",
       "      <th>3</th>\n",
       "      <td>21</td>\n",
       "      <td>Male</td>\n",
       "      <td>92</td>\n",
       "      <td>Final Critic</td>\n",
       "      <td>1.36</td>\n",
       "      <td>Pheusrical25</td>\n",
       "    </tr>\n",
       "    <tr>\n",
       "      <th>4</th>\n",
       "      <td>23</td>\n",
       "      <td>Male</td>\n",
       "      <td>63</td>\n",
       "      <td>Stormfury Mace</td>\n",
       "      <td>1.27</td>\n",
       "      <td>Aela59</td>\n",
       "    </tr>\n",
       "  </tbody>\n",
       "</table>\n",
       "</div>"
      ],
      "text/plain": [
       "   Age Gender  Item ID                                  Item Name  Price  \\\n",
       "0   38   Male      165                Bone Crushing Silver Skewer   3.37   \n",
       "1   21   Male      119  Stormbringer, Dark Blade of Ending Misery   2.32   \n",
       "2   34   Male      174                            Primitive Blade   2.46   \n",
       "3   21   Male       92                               Final Critic   1.36   \n",
       "4   23   Male       63                             Stormfury Mace   1.27   \n",
       "\n",
       "             SN  \n",
       "0     Aelalis34  \n",
       "1        Eolo46  \n",
       "2   Assastnya25  \n",
       "3  Pheusrical25  \n",
       "4        Aela59  "
      ]
     },
     "execution_count": 36,
     "metadata": {},
     "output_type": "execute_result"
    }
   ],
   "source": [
    "#import json file\n",
    "purchasedata = \"purchase_data.json\"\n",
    "purchasedataDF = pd.read_json(purchasedata)\n",
    "purchasedataDF.head()"
   ]
  },
  {
   "cell_type": "markdown",
   "metadata": {},
   "source": [
    "Player Count\n",
    "Total Number of Players"
   ]
  },
  {
   "cell_type": "code",
   "execution_count": 37,
   "metadata": {},
   "outputs": [
    {
     "data": {
      "text/html": [
       "<div>\n",
       "<style>\n",
       "    .dataframe thead tr:only-child th {\n",
       "        text-align: right;\n",
       "    }\n",
       "\n",
       "    .dataframe thead th {\n",
       "        text-align: left;\n",
       "    }\n",
       "\n",
       "    .dataframe tbody tr th {\n",
       "        vertical-align: top;\n",
       "    }\n",
       "</style>\n",
       "<table border=\"1\" class=\"dataframe\">\n",
       "  <thead>\n",
       "    <tr style=\"text-align: right;\">\n",
       "      <th></th>\n",
       "      <th>Total Players</th>\n",
       "    </tr>\n",
       "  </thead>\n",
       "  <tbody>\n",
       "    <tr>\n",
       "      <th>0</th>\n",
       "      <td>573</td>\n",
       "    </tr>\n",
       "  </tbody>\n",
       "</table>\n",
       "</div>"
      ],
      "text/plain": [
       "   Total Players\n",
       "0            573"
      ]
     },
     "execution_count": 37,
     "metadata": {},
     "output_type": "execute_result"
    }
   ],
   "source": [
    "# take value counts on SN and print the len to get total player count\n",
    "\n",
    "playercount = purchasedataDF[\"SN\"].value_counts()\n",
    "playercount = len(playercount)\n",
    "playercountDF = pd.DataFrame({\"Total Players\":[playercount]})\n",
    "playercountDF"
   ]
  },
  {
   "cell_type": "markdown",
   "metadata": {},
   "source": [
    "Purchasing Analysis (Total)\n",
    "\n",
    "Number of Unique Items\n",
    "\n",
    "Average Purchase Price\n",
    "\n",
    "Total Number of Purchases\n",
    "\n",
    "Total Revenue"
   ]
  },
  {
   "cell_type": "code",
   "execution_count": 38,
   "metadata": {},
   "outputs": [],
   "source": [
    "# number of unique items. Take value count of Item ID and print len to get Item Name Count\n",
    "itemName = purchasedataDF[\"Item ID\"].value_counts()\n",
    "itemcount = len(itemName)"
   ]
  },
  {
   "cell_type": "code",
   "execution_count": 39,
   "metadata": {},
   "outputs": [],
   "source": [
    "#Average Purchase Price. Take the mean of the Price column\n",
    "averageprice = purchasedataDF[\"Price\"].mean()"
   ]
  },
  {
   "cell_type": "code",
   "execution_count": 40,
   "metadata": {},
   "outputs": [],
   "source": [
    "#Total Number of Purchases. Take a count of all Item IDs\n",
    "totalPurchases = purchasedataDF[\"Item ID\"].count()"
   ]
  },
  {
   "cell_type": "code",
   "execution_count": 41,
   "metadata": {},
   "outputs": [],
   "source": [
    "#Total Revenue\n",
    "totalrevenue = purchasedataDF[\"Price\"].sum()"
   ]
  },
  {
   "cell_type": "code",
   "execution_count": 42,
   "metadata": {},
   "outputs": [
    {
     "data": {
      "text/html": [
       "<div>\n",
       "<style>\n",
       "    .dataframe thead tr:only-child th {\n",
       "        text-align: right;\n",
       "    }\n",
       "\n",
       "    .dataframe thead th {\n",
       "        text-align: left;\n",
       "    }\n",
       "\n",
       "    .dataframe tbody tr th {\n",
       "        vertical-align: top;\n",
       "    }\n",
       "</style>\n",
       "<table border=\"1\" class=\"dataframe\">\n",
       "  <thead>\n",
       "    <tr style=\"text-align: right;\">\n",
       "      <th></th>\n",
       "      <th>Average Price</th>\n",
       "      <th>Number of Purchases</th>\n",
       "      <th>Number of Unique Items</th>\n",
       "      <th>Total Revenue</th>\n",
       "    </tr>\n",
       "  </thead>\n",
       "  <tbody>\n",
       "    <tr>\n",
       "      <th>0</th>\n",
       "      <td>$2.93</td>\n",
       "      <td>780</td>\n",
       "      <td>183</td>\n",
       "      <td>$2,286.33</td>\n",
       "    </tr>\n",
       "  </tbody>\n",
       "</table>\n",
       "</div>"
      ],
      "text/plain": [
       "  Average Price  Number of Purchases  Number of Unique Items Total Revenue\n",
       "0         $2.93                  780                     183     $2,286.33"
      ]
     },
     "execution_count": 42,
     "metadata": {},
     "output_type": "execute_result"
    }
   ],
   "source": [
    "#Create new Data Frame with values and formats\n",
    "purchanalysisDF = pd.DataFrame({\n",
    "    \"Number of Unique Items\":[itemcount],\n",
    "    \"Average Price\":[averageprice],\n",
    "    \"Number of Purchases\":[totalPurchases],\n",
    "    \"Total Revenue\":[totalrevenue]})\n",
    "purchanalysisDF[\"Average Price\"] = purchanalysisDF[\"Average Price\"].map(\"${0:,.2f}\".format)\n",
    "purchanalysisDF[\"Total Revenue\"] = purchanalysisDF[\"Total Revenue\"].map(\"${0:,.2f}\".format)\n",
    "purchanalysisDF                                     "
   ]
  },
  {
   "cell_type": "markdown",
   "metadata": {},
   "source": [
    "Gender Demographics\n",
    "\n",
    "Percentage and Count of Male Players\n",
    "\n",
    "Percentage and Count of Female Players\n",
    "\n",
    "Percentage and Count of Other / Non-Disclosed"
   ]
  },
  {
   "cell_type": "code",
   "execution_count": 43,
   "metadata": {},
   "outputs": [],
   "source": [
    "#percentage and count of male players\n",
    "gender = purchasedataDF.loc[purchasedataDF[\"Gender\"]==\"Male\"]\n",
    "malegender = gender[\"SN\"].value_counts()\n",
    "malecount = len(malegender)\n",
    "\n",
    "percentmale = (malecount / playercount)*100"
   ]
  },
  {
   "cell_type": "code",
   "execution_count": 44,
   "metadata": {},
   "outputs": [],
   "source": [
    "#Percentage and Count of Female Players\n",
    "gender = purchasedataDF.loc[purchasedataDF[\"Gender\"]==\"Female\"]\n",
    "femalegender = gender[\"SN\"].value_counts()\n",
    "femalecount = len(femalegender)\n",
    "\n",
    "percentfemale = (femalecount / playercount)*100"
   ]
  },
  {
   "cell_type": "code",
   "execution_count": 45,
   "metadata": {},
   "outputs": [],
   "source": [
    "#Percentage and Count of Other / Non-Disclosed\n",
    "gender = purchasedataDF.loc[purchasedataDF[\"Gender\"] == \"Other / Non-Disclosed\"]\n",
    "othergender = gender[\"SN\"].value_counts()\n",
    "othercount = len(othergender)\n",
    "\n",
    "percentother = (othercount / playercount)*100"
   ]
  },
  {
   "cell_type": "code",
   "execution_count": 46,
   "metadata": {},
   "outputs": [
    {
     "data": {
      "text/html": [
       "<div>\n",
       "<style>\n",
       "    .dataframe thead tr:only-child th {\n",
       "        text-align: right;\n",
       "    }\n",
       "\n",
       "    .dataframe thead th {\n",
       "        text-align: left;\n",
       "    }\n",
       "\n",
       "    .dataframe tbody tr th {\n",
       "        vertical-align: top;\n",
       "    }\n",
       "</style>\n",
       "<table border=\"1\" class=\"dataframe\">\n",
       "  <thead>\n",
       "    <tr style=\"text-align: right;\">\n",
       "      <th></th>\n",
       "      <th>Percentage of Players</th>\n",
       "      <th>Total Count</th>\n",
       "    </tr>\n",
       "    <tr>\n",
       "      <th>Gender</th>\n",
       "      <th></th>\n",
       "      <th></th>\n",
       "    </tr>\n",
       "  </thead>\n",
       "  <tbody>\n",
       "    <tr>\n",
       "      <th>Male</th>\n",
       "      <td>81.15%</td>\n",
       "      <td>465</td>\n",
       "    </tr>\n",
       "    <tr>\n",
       "      <th>Female</th>\n",
       "      <td>17.45%</td>\n",
       "      <td>100</td>\n",
       "    </tr>\n",
       "    <tr>\n",
       "      <th>Other / Non-Disclosed</th>\n",
       "      <td>1.40%</td>\n",
       "      <td>8</td>\n",
       "    </tr>\n",
       "  </tbody>\n",
       "</table>\n",
       "</div>"
      ],
      "text/plain": [
       "                      Percentage of Players  Total Count\n",
       "Gender                                                  \n",
       "Male                                 81.15%          465\n",
       "Female                               17.45%          100\n",
       "Other / Non-Disclosed                 1.40%            8"
      ]
     },
     "execution_count": 46,
     "metadata": {},
     "output_type": "execute_result"
    }
   ],
   "source": [
    "#Create new Data Frame with Gender Analysis\n",
    "gendhanalysisDF = pd.DataFrame({\"Gender\":[\"Male\",\"Female\",\"Other / Non-Disclosed\"],\n",
    "    \"Percentage of Players\":[percentmale, percentfemale, percentother],\n",
    "    \"Total Count\":[malecount,femalecount,othercount]})\n",
    "gendhanalysisDF[\"Percentage of Players\"] = gendhanalysisDF[\"Percentage of Players\"].map(\"{0:,.2f}%\".format)\n",
    "gendhanalysisDF.set_index([\"Gender\"])"
   ]
  },
  {
   "cell_type": "markdown",
   "metadata": {},
   "source": [
    "Purchasing Analysis (Gender)\n",
    "\n",
    "The below each broken by gender\n",
    "\n",
    "Purchase Count\n",
    "\n",
    "Average Purchase Price\n",
    "\n",
    "Total Purchase Value\n",
    "\n",
    "Normalized Totals"
   ]
  },
  {
   "cell_type": "code",
   "execution_count": 47,
   "metadata": {},
   "outputs": [],
   "source": [
    "# Male Purchase Count\n",
    "malepurchase = purchasedataDF.loc[purchasedataDF[\"Gender\"] == \"Male\"]\n",
    "malepurchase = malepurchase[\"Item ID\"].count()\n",
    "\n",
    "# Male Average Purchase Price\n",
    "maleaverage = purchasedataDF.loc[purchasedataDF[\"Gender\"] == \"Male\"]\n",
    "maleaverage = maleaverage[\"Price\"].mean()\n",
    "\n",
    "# Total Purchase Value\n",
    "maletotal = purchasedataDF.loc[purchasedataDF[\"Gender\"] == \"Male\"]\n",
    "maletotal = maletotal[\"Price\"].sum()"
   ]
  },
  {
   "cell_type": "code",
   "execution_count": 48,
   "metadata": {},
   "outputs": [],
   "source": [
    "# Female Purchase Count\n",
    "femalepurchase = purchasedataDF.loc[purchasedataDF[\"Gender\"] == \"Female\"]\n",
    "femalepurchase = femalepurchase[\"Item ID\"].count()\n",
    "\n",
    "# Female Average Purchase Price\n",
    "femaleaverage = purchasedataDF.loc[purchasedataDF[\"Gender\"] == \"Female\"]\n",
    "femaleaverage = femaleaverage[\"Price\"].mean()\n",
    "\n",
    "# Total Female Purchase Value\n",
    "femaletotal = purchasedataDF.loc[purchasedataDF[\"Gender\"] == \"Female\"]\n",
    "femaletotal = femaletotal[\"Price\"].sum()"
   ]
  },
  {
   "cell_type": "code",
   "execution_count": 49,
   "metadata": {},
   "outputs": [],
   "source": [
    "# Other Purchase Count\n",
    "otherpurchase = purchasedataDF.loc[purchasedataDF[\"Gender\"] == \"Other / Non-Disclosed\"]\n",
    "otherpurchase = otherpurchase[\"Item ID\"].count()\n",
    "\n",
    "# Other Average Purchase Price\n",
    "otheraverage = purchasedataDF.loc[purchasedataDF[\"Gender\"] == \"Other / Non-Disclosed\"]\n",
    "otheraverage = otheraverage[\"Price\"].mean()\n",
    "\n",
    "# Total Other Purchase Value\n",
    "othertotal = purchasedataDF.loc[purchasedataDF[\"Gender\"] == \"Other / Non-Disclosed\"]\n",
    "othertotal = othertotal[\"Price\"].sum()"
   ]
  },
  {
   "cell_type": "code",
   "execution_count": 50,
   "metadata": {},
   "outputs": [
    {
     "data": {
      "text/html": [
       "<div>\n",
       "<style>\n",
       "    .dataframe thead tr:only-child th {\n",
       "        text-align: right;\n",
       "    }\n",
       "\n",
       "    .dataframe thead th {\n",
       "        text-align: left;\n",
       "    }\n",
       "\n",
       "    .dataframe tbody tr th {\n",
       "        vertical-align: top;\n",
       "    }\n",
       "</style>\n",
       "<table border=\"1\" class=\"dataframe\">\n",
       "  <thead>\n",
       "    <tr style=\"text-align: right;\">\n",
       "      <th></th>\n",
       "      <th>Average Purchase Price</th>\n",
       "      <th>Purchase Count</th>\n",
       "      <th>Total Purchase Value</th>\n",
       "    </tr>\n",
       "    <tr>\n",
       "      <th>Gender</th>\n",
       "      <th></th>\n",
       "      <th></th>\n",
       "      <th></th>\n",
       "    </tr>\n",
       "  </thead>\n",
       "  <tbody>\n",
       "    <tr>\n",
       "      <th>Male</th>\n",
       "      <td>$2.95</td>\n",
       "      <td>633</td>\n",
       "      <td>$1,867.68</td>\n",
       "    </tr>\n",
       "    <tr>\n",
       "      <th>Female</th>\n",
       "      <td>$2.82</td>\n",
       "      <td>136</td>\n",
       "      <td>$382.91</td>\n",
       "    </tr>\n",
       "    <tr>\n",
       "      <th>Other/Non-Disclosed</th>\n",
       "      <td>$3.25</td>\n",
       "      <td>11</td>\n",
       "      <td>$35.74</td>\n",
       "    </tr>\n",
       "  </tbody>\n",
       "</table>\n",
       "</div>"
      ],
      "text/plain": [
       "                    Average Purchase Price  Purchase Count  \\\n",
       "Gender                                                       \n",
       "Male                                 $2.95             633   \n",
       "Female                               $2.82             136   \n",
       "Other/Non-Disclosed                  $3.25              11   \n",
       "\n",
       "                    Total Purchase Value  \n",
       "Gender                                    \n",
       "Male                           $1,867.68  \n",
       "Female                           $382.91  \n",
       "Other/Non-Disclosed               $35.74  "
      ]
     },
     "execution_count": 50,
     "metadata": {},
     "output_type": "execute_result"
    }
   ],
   "source": [
    "#Create new Data Frame with Gender Analysis\n",
    "genpurchanalysisDF = pd.DataFrame({\"Gender\":[\"Male\",\"Female\",\"Other/Non-Disclosed\"],\n",
    "    \"Purchase Count\":[malepurchase, femalepurchase, otherpurchase],\n",
    "    \"Average Purchase Price\":[maleaverage, femaleaverage, otheraverage],                                 \n",
    "    \"Total Purchase Value\":[maletotal, femaletotal, othertotal]})\n",
    "genpurchanalysisDF[\"Average Purchase Price\"] = genpurchanalysisDF[\"Average Purchase Price\"].map(\"${0:,.2f}\".format)\n",
    "genpurchanalysisDF[\"Total Purchase Value\"] = genpurchanalysisDF[\"Total Purchase Value\"].map(\"${0:,.2f}\".format)\n",
    "genpurchanalysisDF.set_index([\"Gender\"])"
   ]
  },
  {
   "cell_type": "markdown",
   "metadata": {},
   "source": [
    "Age Demographics\n",
    "\n",
    "The below each broken into bins of 4 years (i.e. <10, 10-14, 15-19, etc.)\n",
    "\n",
    "Purchase Count\n",
    "\n",
    "Average Purchase Price\n",
    "\n",
    "Total Purchase Value\n",
    "\n",
    "Normalized Totals"
   ]
  },
  {
   "cell_type": "code",
   "execution_count": 51,
   "metadata": {},
   "outputs": [],
   "source": [
    "# Bins are 0 to 10, 10 to 14, 15 to 19, 20 to 24, 25 to 29, 30 to 34, 35+\n",
    "bins = [0, 10, 15, 20, 25, 30, 35, 100]\n",
    "\n",
    "# Create the names for the bins\n",
    "group_names = ['< 10', '10 - 14', '15 - 19 ', '20 - 24', '25 - 29', '30 - 34', '35 +']"
   ]
  },
  {
   "cell_type": "code",
   "execution_count": 52,
   "metadata": {},
   "outputs": [
    {
     "data": {
      "text/html": [
       "<div>\n",
       "<style>\n",
       "    .dataframe thead tr:only-child th {\n",
       "        text-align: right;\n",
       "    }\n",
       "\n",
       "    .dataframe thead th {\n",
       "        text-align: left;\n",
       "    }\n",
       "\n",
       "    .dataframe tbody tr th {\n",
       "        vertical-align: top;\n",
       "    }\n",
       "</style>\n",
       "<table border=\"1\" class=\"dataframe\">\n",
       "  <thead>\n",
       "    <tr style=\"text-align: right;\">\n",
       "      <th></th>\n",
       "      <th>Age</th>\n",
       "      <th>Gender</th>\n",
       "      <th>Item ID</th>\n",
       "      <th>Item Name</th>\n",
       "      <th>Price</th>\n",
       "      <th>SN</th>\n",
       "      <th>Age Group</th>\n",
       "    </tr>\n",
       "  </thead>\n",
       "  <tbody>\n",
       "    <tr>\n",
       "      <th>0</th>\n",
       "      <td>38</td>\n",
       "      <td>Male</td>\n",
       "      <td>165</td>\n",
       "      <td>Bone Crushing Silver Skewer</td>\n",
       "      <td>3.37</td>\n",
       "      <td>Aelalis34</td>\n",
       "      <td>35 +</td>\n",
       "    </tr>\n",
       "    <tr>\n",
       "      <th>1</th>\n",
       "      <td>21</td>\n",
       "      <td>Male</td>\n",
       "      <td>119</td>\n",
       "      <td>Stormbringer, Dark Blade of Ending Misery</td>\n",
       "      <td>2.32</td>\n",
       "      <td>Eolo46</td>\n",
       "      <td>20 - 24</td>\n",
       "    </tr>\n",
       "    <tr>\n",
       "      <th>2</th>\n",
       "      <td>34</td>\n",
       "      <td>Male</td>\n",
       "      <td>174</td>\n",
       "      <td>Primitive Blade</td>\n",
       "      <td>2.46</td>\n",
       "      <td>Assastnya25</td>\n",
       "      <td>30 - 34</td>\n",
       "    </tr>\n",
       "    <tr>\n",
       "      <th>3</th>\n",
       "      <td>21</td>\n",
       "      <td>Male</td>\n",
       "      <td>92</td>\n",
       "      <td>Final Critic</td>\n",
       "      <td>1.36</td>\n",
       "      <td>Pheusrical25</td>\n",
       "      <td>20 - 24</td>\n",
       "    </tr>\n",
       "    <tr>\n",
       "      <th>4</th>\n",
       "      <td>23</td>\n",
       "      <td>Male</td>\n",
       "      <td>63</td>\n",
       "      <td>Stormfury Mace</td>\n",
       "      <td>1.27</td>\n",
       "      <td>Aela59</td>\n",
       "      <td>20 - 24</td>\n",
       "    </tr>\n",
       "  </tbody>\n",
       "</table>\n",
       "</div>"
      ],
      "text/plain": [
       "   Age Gender  Item ID                                  Item Name  Price  \\\n",
       "0   38   Male      165                Bone Crushing Silver Skewer   3.37   \n",
       "1   21   Male      119  Stormbringer, Dark Blade of Ending Misery   2.32   \n",
       "2   34   Male      174                            Primitive Blade   2.46   \n",
       "3   21   Male       92                               Final Critic   1.36   \n",
       "4   23   Male       63                             Stormfury Mace   1.27   \n",
       "\n",
       "             SN Age Group  \n",
       "0     Aelalis34      35 +  \n",
       "1        Eolo46   20 - 24  \n",
       "2   Assastnya25   30 - 34  \n",
       "3  Pheusrical25   20 - 24  \n",
       "4        Aela59   20 - 24  "
      ]
     },
     "execution_count": 52,
     "metadata": {},
     "output_type": "execute_result"
    }
   ],
   "source": [
    "# Cut age and place the scores into bins\n",
    "# append column at the end of original data frame for age group\n",
    "purchasedataDF[\"Age Group\"] = pd.cut(purchasedataDF[\"Age\"], bins, labels=group_names)\n",
    "purchasedataDF.head()"
   ]
  },
  {
   "cell_type": "code",
   "execution_count": 53,
   "metadata": {},
   "outputs": [
    {
     "name": "stdout",
     "output_type": "stream",
     "text": [
      "          Age Group\n",
      "20 - 24         305\n",
      "15 - 19         184\n",
      "10 - 14          78\n",
      "25 - 29          76\n",
      "30 - 34          58\n",
      "35 +             47\n",
      "< 10             32\n",
      "          Age Group\n",
      "20 - 24   53.228621\n",
      "15 - 19   32.111693\n",
      "10 - 14   13.612565\n",
      "25 - 29   13.263525\n",
      "30 - 34   10.122164\n",
      "35 +       8.202443\n",
      "< 10       5.584642\n"
     ]
    }
   ],
   "source": [
    "#percentage of players and count of players by bins\n",
    "bincount = pd.DataFrame(purchasedataDF[\"Age Group\"].value_counts())\n",
    "binpercent = pd.DataFrame((bincount/playercount)*100)\n",
    "\n",
    "print(bincount)\n",
    "\n",
    "print(binpercent)\n"
   ]
  },
  {
   "cell_type": "code",
   "execution_count": 54,
   "metadata": {},
   "outputs": [
    {
     "data": {
      "text/plain": [
       "Age Group\n",
       "10 - 14      78\n",
       "15 - 19     184\n",
       "20 - 24     305\n",
       "25 - 29      76\n",
       "30 - 34      58\n",
       "35 +         47\n",
       "< 10         32\n",
       "Name: Item Name, dtype: int64"
      ]
     },
     "execution_count": 54,
     "metadata": {},
     "output_type": "execute_result"
    }
   ],
   "source": [
    "#item count per group\n",
    "groupitemcount = purchasedataDF.groupby(\"Age Group\")[\"Item Name\"].count()\n",
    "groupitemcount"
   ]
  },
  {
   "cell_type": "code",
   "execution_count": 55,
   "metadata": {},
   "outputs": [
    {
     "data": {
      "text/plain": [
       "Age Group\n",
       "10 - 14     2.873718\n",
       "15 - 19     2.873587\n",
       "20 - 24     2.959377\n",
       "25 - 29     2.892368\n",
       "30 - 34     3.073448\n",
       "35 +        2.896383\n",
       "< 10        3.019375\n",
       "Name: Price, dtype: float64"
      ]
     },
     "execution_count": 55,
     "metadata": {},
     "output_type": "execute_result"
    }
   ],
   "source": [
    "#price average per group\n",
    "grouppriceaverage = purchasedataDF.groupby(\"Age Group\")[\"Price\"].mean()\n",
    "grouppriceaverage"
   ]
  },
  {
   "cell_type": "code",
   "execution_count": 56,
   "metadata": {},
   "outputs": [
    {
     "data": {
      "text/plain": [
       "Age Group\n",
       "10 - 14     224.15\n",
       "15 - 19     528.74\n",
       "20 - 24     902.61\n",
       "25 - 29     219.82\n",
       "30 - 34     178.26\n",
       "35 +        136.13\n",
       "< 10         96.62\n",
       "Name: Price, dtype: float64"
      ]
     },
     "execution_count": 56,
     "metadata": {},
     "output_type": "execute_result"
    }
   ],
   "source": [
    "#total purchase per group\n",
    "groupsumvalue = purchasedataDF.groupby(\"Age Group\")[\"Price\"].sum()\n",
    "groupsumvalue"
   ]
  },
  {
   "cell_type": "code",
   "execution_count": 57,
   "metadata": {},
   "outputs": [],
   "source": [
    "#Create new Data Frame with Age Groups Analytics\n",
    "#AgeDemographics = pd.DataFrame({\"Age Groups\":['< 10', '10 - 14', '15 - 19 ', '20 - 24', '25 - 29', '30 - 34', '35 +'],\n",
    "#    \"Percentage of Players\":[grouppriceaverage],\n",
    "#    \"Average Price\":[grouppriceaverage],\n",
    "#    \"Total Count\":[groupsumvalue]})\n",
    "#AgeDemographics.set_index([\"Age Groups\"])"
   ]
  },
  {
   "cell_type": "markdown",
   "metadata": {},
   "source": [
    "Top Spenders\n",
    "\n",
    "Identify the the top 5 spenders in the game by total purchase value, then list (in a table):\n",
    "\n",
    "SN\n",
    "\n",
    "Purchase Count\n",
    "\n",
    "Average Purchase Price\n",
    "\n",
    "Total Purchase Value"
   ]
  },
  {
   "cell_type": "code",
   "execution_count": 58,
   "metadata": {
    "collapsed": true
   },
   "outputs": [],
   "source": [
    "# groupby SN, sum the price, and then reset index\n",
    "SNtop5sum = pd.DataFrame(purchasedataDF.groupby(\"SN\")[\"Price\"].sum())\n",
    "SNtop5sum.reset_index(inplace = True)\n"
   ]
  },
  {
   "cell_type": "code",
   "execution_count": 59,
   "metadata": {
    "collapsed": true
   },
   "outputs": [],
   "source": [
    "# groupby SN, count the price, and then reset index\n",
    "SNtop5count = pd.DataFrame(purchasedataDF.groupby(\"SN\")[\"Price\"].count())\n",
    "SNtop5count.reset_index(inplace = True)\n"
   ]
  },
  {
   "cell_type": "code",
   "execution_count": 60,
   "metadata": {
    "collapsed": true
   },
   "outputs": [],
   "source": [
    "# groupby SN, mean of the price, and then reset index\n",
    "SNtop5mean = pd.DataFrame(purchasedataDF.groupby(\"SN\")[\"Price\"].mean())\n",
    "SNtop5mean.reset_index(inplace = True)\n"
   ]
  },
  {
   "cell_type": "code",
   "execution_count": 61,
   "metadata": {},
   "outputs": [
    {
     "data": {
      "text/html": [
       "<div>\n",
       "<style>\n",
       "    .dataframe thead tr:only-child th {\n",
       "        text-align: right;\n",
       "    }\n",
       "\n",
       "    .dataframe thead th {\n",
       "        text-align: left;\n",
       "    }\n",
       "\n",
       "    .dataframe tbody tr th {\n",
       "        vertical-align: top;\n",
       "    }\n",
       "</style>\n",
       "<table border=\"1\" class=\"dataframe\">\n",
       "  <thead>\n",
       "    <tr style=\"text-align: right;\">\n",
       "      <th></th>\n",
       "      <th>Total Purchase Value</th>\n",
       "      <th>Total Count</th>\n",
       "      <th>Average Count</th>\n",
       "    </tr>\n",
       "    <tr>\n",
       "      <th>SN</th>\n",
       "      <th></th>\n",
       "      <th></th>\n",
       "      <th></th>\n",
       "    </tr>\n",
       "  </thead>\n",
       "  <tbody>\n",
       "    <tr>\n",
       "      <th>Adairialis76</th>\n",
       "      <td>2.46</td>\n",
       "      <td>1</td>\n",
       "      <td>2.460000</td>\n",
       "    </tr>\n",
       "    <tr>\n",
       "      <th>Aduephos78</th>\n",
       "      <td>6.70</td>\n",
       "      <td>3</td>\n",
       "      <td>2.233333</td>\n",
       "    </tr>\n",
       "    <tr>\n",
       "      <th>Aeduera68</th>\n",
       "      <td>5.80</td>\n",
       "      <td>3</td>\n",
       "      <td>1.933333</td>\n",
       "    </tr>\n",
       "    <tr>\n",
       "      <th>Aela49</th>\n",
       "      <td>2.46</td>\n",
       "      <td>1</td>\n",
       "      <td>2.460000</td>\n",
       "    </tr>\n",
       "    <tr>\n",
       "      <th>Aela59</th>\n",
       "      <td>1.27</td>\n",
       "      <td>1</td>\n",
       "      <td>1.270000</td>\n",
       "    </tr>\n",
       "  </tbody>\n",
       "</table>\n",
       "</div>"
      ],
      "text/plain": [
       "              Total Purchase Value  Total Count  Average Count\n",
       "SN                                                            \n",
       "Adairialis76                  2.46            1       2.460000\n",
       "Aduephos78                    6.70            3       2.233333\n",
       "Aeduera68                     5.80            3       1.933333\n",
       "Aela49                        2.46            1       2.460000\n",
       "Aela59                        1.27            1       1.270000"
      ]
     },
     "execution_count": 61,
     "metadata": {},
     "output_type": "execute_result"
    }
   ],
   "source": [
    "# merge sum and count tables together on SN\n",
    "mergeSN = pd.merge(SNtop5sum, SNtop5count, on = \"SN\")\n",
    "\n",
    "# merge the sum/count frame created with the mean on SN\n",
    "mergeSN2 = pd.merge(mergeSN, SNtop5mean, on = \"SN\")\n",
    "\n",
    "#rename columns accordingly and print top 5\n",
    "mergeSN2.columns = [\"SN\",\"Total Purchase Value\", \"Total Count\",\"Average Count\"]\n",
    "mergeSN2 = mergeSN2.set_index([\"SN\"])\n",
    "mergeSN2.head(5)"
   ]
  },
  {
   "cell_type": "markdown",
   "metadata": {},
   "source": [
    "Most Popular Items\n",
    "\n",
    "\n",
    "Identify the 5 most popular items by purchase count, then list (in a table):\n",
    "\n",
    "Item ID\n",
    "\n",
    "Item Name\n",
    "\n",
    "\n",
    "Purchase Count\n",
    "\n",
    "Item Price\n",
    "\n",
    "Total Purchase Value"
   ]
  },
  {
   "cell_type": "code",
   "execution_count": 62,
   "metadata": {
    "collapsed": true
   },
   "outputs": [],
   "source": [
    "# groupby Item ID, count the price, and then reset index\n",
    "ItemIDcount = pd.DataFrame(purchasedataDF.groupby(\"Item ID\")[\"Price\"].count())\n",
    "ItemIDcount.reset_index(inplace = True)\n"
   ]
  },
  {
   "cell_type": "code",
   "execution_count": 63,
   "metadata": {
    "collapsed": true
   },
   "outputs": [],
   "source": [
    "# groupby Item ID, sum the price, and then reset index\n",
    "ItemIDsum = pd.DataFrame(purchasedataDF.groupby(\"Item ID\")[\"Price\"].sum())\n",
    "ItemIDsum.reset_index(inplace = True)\n"
   ]
  },
  {
   "cell_type": "code",
   "execution_count": 64,
   "metadata": {},
   "outputs": [
    {
     "data": {
      "text/html": [
       "<div>\n",
       "<style>\n",
       "    .dataframe thead tr:only-child th {\n",
       "        text-align: right;\n",
       "    }\n",
       "\n",
       "    .dataframe thead th {\n",
       "        text-align: left;\n",
       "    }\n",
       "\n",
       "    .dataframe tbody tr th {\n",
       "        vertical-align: top;\n",
       "    }\n",
       "</style>\n",
       "<table border=\"1\" class=\"dataframe\">\n",
       "  <thead>\n",
       "    <tr style=\"text-align: right;\">\n",
       "      <th></th>\n",
       "      <th>Item Name</th>\n",
       "      <th>Item Price</th>\n",
       "      <th>Purchase Count</th>\n",
       "      <th>Total Purchase Value</th>\n",
       "    </tr>\n",
       "    <tr>\n",
       "      <th>Item ID</th>\n",
       "      <th></th>\n",
       "      <th></th>\n",
       "      <th></th>\n",
       "      <th></th>\n",
       "    </tr>\n",
       "  </thead>\n",
       "  <tbody>\n",
       "    <tr>\n",
       "      <th>84</th>\n",
       "      <td>Arcane Gem</td>\n",
       "      <td>2.23</td>\n",
       "      <td>11</td>\n",
       "      <td>24.53</td>\n",
       "    </tr>\n",
       "    <tr>\n",
       "      <th>39</th>\n",
       "      <td>Betrayal, Whisper of Grieving Widows</td>\n",
       "      <td>2.35</td>\n",
       "      <td>11</td>\n",
       "      <td>25.85</td>\n",
       "    </tr>\n",
       "    <tr>\n",
       "      <th>13</th>\n",
       "      <td>Serenity</td>\n",
       "      <td>1.49</td>\n",
       "      <td>9</td>\n",
       "      <td>13.41</td>\n",
       "    </tr>\n",
       "    <tr>\n",
       "      <th>175</th>\n",
       "      <td>Woeful Adamantite Claymore</td>\n",
       "      <td>1.24</td>\n",
       "      <td>9</td>\n",
       "      <td>11.16</td>\n",
       "    </tr>\n",
       "    <tr>\n",
       "      <th>31</th>\n",
       "      <td>Trickster</td>\n",
       "      <td>2.07</td>\n",
       "      <td>9</td>\n",
       "      <td>18.63</td>\n",
       "    </tr>\n",
       "  </tbody>\n",
       "</table>\n",
       "</div>"
      ],
      "text/plain": [
       "                                    Item Name  Item Price  Purchase Count  \\\n",
       "Item ID                                                                     \n",
       "84                                 Arcane Gem        2.23              11   \n",
       "39       Betrayal, Whisper of Grieving Widows        2.35              11   \n",
       "13                                   Serenity        1.49               9   \n",
       "175                Woeful Adamantite Claymore        1.24               9   \n",
       "31                                  Trickster        2.07               9   \n",
       "\n",
       "         Total Purchase Value  \n",
       "Item ID                        \n",
       "84                      24.53  \n",
       "39                      25.85  \n",
       "13                      13.41  \n",
       "175                     11.16  \n",
       "31                      18.63  "
      ]
     },
     "execution_count": 64,
     "metadata": {},
     "output_type": "execute_result"
    }
   ],
   "source": [
    "#merge ItemID count and sum dataframes\n",
    "mergeItem = pd.merge(ItemIDcount, ItemIDsum, on = \"Item ID\")\n",
    "\n",
    "#create new dataframe with just item ID, item name, and price of item\n",
    "ItemNamePrice = pd.DataFrame(purchasedataDF[[\"Item ID\",\"Item Name\",\"Price\"]])\n",
    "\n",
    "#merge item count/sum table with new dataframe just created to to add the name and price\n",
    "mergeItemTable = pd.merge(ItemNamePrice,mergeItem, on = \"Item ID\")\n",
    "\n",
    "#rename columns and then sort by purchase count\n",
    "mergeItemTable.columns = [\"Item ID\",\"Item Name\", \"Item Price\",\"Purchase Count\",\"Total Purchase Value\"]\n",
    "mergeItemTable = mergeItemTable.sort_values([\"Purchase Count\"], ascending = False)\n",
    "\n",
    "#drop duplicate items and print top 5\n",
    "mergeItemTableDup = mergeItemTable.drop_duplicates()\n",
    "mergeItemTableDup = mergeItemTableDup.set_index([\"Item ID\"])\n",
    "mergeItemTableDup.head()"
   ]
  },
  {
   "cell_type": "markdown",
   "metadata": {},
   "source": [
    "Most Profitable Items\n",
    "\n",
    "\n",
    "Identify the 5 most profitable items by total purchase value, then list (in a table):\n",
    "    \n",
    "Item ID\n",
    "\n",
    "Item Name\n",
    "\n",
    "Purchase Count\n",
    "\n",
    "Item Price\n",
    "\n",
    "Total Purchase Value"
   ]
  },
  {
   "cell_type": "code",
   "execution_count": 65,
   "metadata": {
    "collapsed": true
   },
   "outputs": [],
   "source": [
    "# create new table with price, item id, and item name\n",
    "ProfitTable = pd.DataFrame(purchasedataDF[[\"Price\",\"Item ID\",\"Item Name\"]])\n",
    "ProfitTableDF = ProfitTable.drop_duplicates()"
   ]
  },
  {
   "cell_type": "code",
   "execution_count": 66,
   "metadata": {
    "collapsed": true
   },
   "outputs": [],
   "source": [
    " # groupby  Item ID, count the price, sort by price\n",
    "ProfitCount = pd.DataFrame(purchasedataDF.groupby(\"Item ID\")[\"Price\"].count())\n",
    "ProfitCount.reset_index(inplace = True)"
   ]
  },
  {
   "cell_type": "code",
   "execution_count": 67,
   "metadata": {
    "collapsed": true
   },
   "outputs": [],
   "source": [
    "# groupby Item ID, sum the price, sort by price\n",
    "ProfitSum = pd.DataFrame(purchasedataDF.groupby(\"Item ID\")[\"Price\"].sum())\n",
    "ProfitSum.reset_index(inplace = True)"
   ]
  },
  {
   "cell_type": "code",
   "execution_count": 68,
   "metadata": {},
   "outputs": [
    {
     "data": {
      "text/html": [
       "<div>\n",
       "<style>\n",
       "    .dataframe thead tr:only-child th {\n",
       "        text-align: right;\n",
       "    }\n",
       "\n",
       "    .dataframe thead th {\n",
       "        text-align: left;\n",
       "    }\n",
       "\n",
       "    .dataframe tbody tr th {\n",
       "        vertical-align: top;\n",
       "    }\n",
       "</style>\n",
       "<table border=\"1\" class=\"dataframe\">\n",
       "  <thead>\n",
       "    <tr style=\"text-align: right;\">\n",
       "      <th></th>\n",
       "      <th>Price</th>\n",
       "      <th>Item Name</th>\n",
       "      <th>Purchase Count</th>\n",
       "      <th>Total Purchase Value</th>\n",
       "    </tr>\n",
       "    <tr>\n",
       "      <th>Item ID</th>\n",
       "      <th></th>\n",
       "      <th></th>\n",
       "      <th></th>\n",
       "      <th></th>\n",
       "    </tr>\n",
       "  </thead>\n",
       "  <tbody>\n",
       "    <tr>\n",
       "      <th>32</th>\n",
       "      <td>4.95</td>\n",
       "      <td>Orenmir</td>\n",
       "      <td>6</td>\n",
       "      <td>29.70</td>\n",
       "    </tr>\n",
       "    <tr>\n",
       "      <th>177</th>\n",
       "      <td>4.89</td>\n",
       "      <td>Winterthorn, Defender of Shifting Worlds</td>\n",
       "      <td>4</td>\n",
       "      <td>19.56</td>\n",
       "    </tr>\n",
       "    <tr>\n",
       "      <th>103</th>\n",
       "      <td>4.87</td>\n",
       "      <td>Singed Scalpel</td>\n",
       "      <td>6</td>\n",
       "      <td>29.22</td>\n",
       "    </tr>\n",
       "    <tr>\n",
       "      <th>173</th>\n",
       "      <td>4.83</td>\n",
       "      <td>Stormfury Longsword</td>\n",
       "      <td>5</td>\n",
       "      <td>24.15</td>\n",
       "    </tr>\n",
       "    <tr>\n",
       "      <th>42</th>\n",
       "      <td>4.82</td>\n",
       "      <td>The Decapitator</td>\n",
       "      <td>3</td>\n",
       "      <td>14.46</td>\n",
       "    </tr>\n",
       "  </tbody>\n",
       "</table>\n",
       "</div>"
      ],
      "text/plain": [
       "         Price                                 Item Name  Purchase Count  \\\n",
       "Item ID                                                                    \n",
       "32        4.95                                   Orenmir               6   \n",
       "177       4.89  Winterthorn, Defender of Shifting Worlds               4   \n",
       "103       4.87                            Singed Scalpel               6   \n",
       "173       4.83                       Stormfury Longsword               5   \n",
       "42        4.82                           The Decapitator               3   \n",
       "\n",
       "         Total Purchase Value  \n",
       "Item ID                        \n",
       "32                      29.70  \n",
       "177                     19.56  \n",
       "103                     29.22  \n",
       "173                     24.15  \n",
       "42                      14.46  "
      ]
     },
     "execution_count": 68,
     "metadata": {},
     "output_type": "execute_result"
    }
   ],
   "source": [
    "# merge profit table DF and profit counts on Item ID\n",
    "profitmerge = pd.merge(ProfitTableDF, ProfitCount, on = \"Item ID\")\n",
    "\n",
    "# merge profitmerge and profit sums on Item ID\n",
    "profitmerge2 = pd.merge(profitmerge, ProfitSum, on = \"Item ID\")\n",
    "\n",
    "# rename columns\n",
    "profitmerge2.columns = [\"Price\", \"Item ID\", \"Item Name\", \"Purchase Count\",\"Total Purchase Value\"]\n",
    "\n",
    "# sort on Price and print top 5\n",
    "profitmergeTable = profitmerge2.sort_values([\"Price\"], ascending = False)\n",
    "profitmergeTable = profitmergeTable.set_index([\"Item ID\"])\n",
    "profitmergeTable.head()"
   ]
  }
 ],
 "metadata": {
  "kernelspec": {
   "display_name": "Python 3",
   "language": "python",
   "name": "python3"
  },
  "language_info": {
   "codemirror_mode": {
    "name": "ipython",
    "version": 3
   },
   "file_extension": ".py",
   "mimetype": "text/x-python",
   "name": "python",
   "nbconvert_exporter": "python",
   "pygments_lexer": "ipython3",
   "version": "3.6.1"
  }
 },
 "nbformat": 4,
 "nbformat_minor": 2
}
