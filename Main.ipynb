{
 "cells": [
  {
   "cell_type": "code",
   "execution_count": 45,
   "metadata": {
    "collapsed": true
   },
   "outputs": [],
   "source": [
    "import pandas as pd\n",
    "import numpy as np"
   ]
  },
  {
   "cell_type": "code",
   "execution_count": 100,
   "metadata": {},
   "outputs": [
    {
     "data": {
      "text/html": [
       "<div>\n",
       "<style>\n",
       "    .dataframe thead tr:only-child th {\n",
       "        text-align: right;\n",
       "    }\n",
       "\n",
       "    .dataframe thead th {\n",
       "        text-align: left;\n",
       "    }\n",
       "\n",
       "    .dataframe tbody tr th {\n",
       "        vertical-align: top;\n",
       "    }\n",
       "</style>\n",
       "<table border=\"1\" class=\"dataframe\">\n",
       "  <thead>\n",
       "    <tr style=\"text-align: right;\">\n",
       "      <th></th>\n",
       "      <th>Age</th>\n",
       "      <th>Gender</th>\n",
       "      <th>Item ID</th>\n",
       "      <th>Item Name</th>\n",
       "      <th>Price</th>\n",
       "      <th>SN</th>\n",
       "    </tr>\n",
       "  </thead>\n",
       "  <tbody>\n",
       "    <tr>\n",
       "      <th>0</th>\n",
       "      <td>38</td>\n",
       "      <td>Male</td>\n",
       "      <td>165</td>\n",
       "      <td>Bone Crushing Silver Skewer</td>\n",
       "      <td>3.37</td>\n",
       "      <td>Aelalis34</td>\n",
       "    </tr>\n",
       "    <tr>\n",
       "      <th>1</th>\n",
       "      <td>21</td>\n",
       "      <td>Male</td>\n",
       "      <td>119</td>\n",
       "      <td>Stormbringer, Dark Blade of Ending Misery</td>\n",
       "      <td>2.32</td>\n",
       "      <td>Eolo46</td>\n",
       "    </tr>\n",
       "    <tr>\n",
       "      <th>2</th>\n",
       "      <td>34</td>\n",
       "      <td>Male</td>\n",
       "      <td>174</td>\n",
       "      <td>Primitive Blade</td>\n",
       "      <td>2.46</td>\n",
       "      <td>Assastnya25</td>\n",
       "    </tr>\n",
       "    <tr>\n",
       "      <th>3</th>\n",
       "      <td>21</td>\n",
       "      <td>Male</td>\n",
       "      <td>92</td>\n",
       "      <td>Final Critic</td>\n",
       "      <td>1.36</td>\n",
       "      <td>Pheusrical25</td>\n",
       "    </tr>\n",
       "    <tr>\n",
       "      <th>4</th>\n",
       "      <td>23</td>\n",
       "      <td>Male</td>\n",
       "      <td>63</td>\n",
       "      <td>Stormfury Mace</td>\n",
       "      <td>1.27</td>\n",
       "      <td>Aela59</td>\n",
       "    </tr>\n",
       "  </tbody>\n",
       "</table>\n",
       "</div>"
      ],
      "text/plain": [
       "   Age Gender  Item ID                                  Item Name  Price  \\\n",
       "0   38   Male      165                Bone Crushing Silver Skewer   3.37   \n",
       "1   21   Male      119  Stormbringer, Dark Blade of Ending Misery   2.32   \n",
       "2   34   Male      174                            Primitive Blade   2.46   \n",
       "3   21   Male       92                               Final Critic   1.36   \n",
       "4   23   Male       63                             Stormfury Mace   1.27   \n",
       "\n",
       "             SN  \n",
       "0     Aelalis34  \n",
       "1        Eolo46  \n",
       "2   Assastnya25  \n",
       "3  Pheusrical25  \n",
       "4        Aela59  "
      ]
     },
     "execution_count": 100,
     "metadata": {},
     "output_type": "execute_result"
    }
   ],
   "source": [
    "#import json file\n",
    "purchasedata = \"purchase_data.json\"\n",
    "purchasedataDF = pd.read_json(purchasedata)\n",
    "purchasedataDF.head()"
   ]
  },
  {
   "cell_type": "markdown",
   "metadata": {},
   "source": [
    "Player Count\n",
    "Total Number of Players"
   ]
  },
  {
   "cell_type": "code",
   "execution_count": 96,
   "metadata": {},
   "outputs": [
    {
     "data": {
      "text/html": [
       "<div>\n",
       "<style>\n",
       "    .dataframe thead tr:only-child th {\n",
       "        text-align: right;\n",
       "    }\n",
       "\n",
       "    .dataframe thead th {\n",
       "        text-align: left;\n",
       "    }\n",
       "\n",
       "    .dataframe tbody tr th {\n",
       "        vertical-align: top;\n",
       "    }\n",
       "</style>\n",
       "<table border=\"1\" class=\"dataframe\">\n",
       "  <thead>\n",
       "    <tr style=\"text-align: right;\">\n",
       "      <th></th>\n",
       "      <th>Total Players</th>\n",
       "    </tr>\n",
       "  </thead>\n",
       "  <tbody>\n",
       "    <tr>\n",
       "      <th>0</th>\n",
       "      <td>573</td>\n",
       "    </tr>\n",
       "  </tbody>\n",
       "</table>\n",
       "</div>"
      ],
      "text/plain": [
       "   Total Players\n",
       "0            573"
      ]
     },
     "execution_count": 96,
     "metadata": {},
     "output_type": "execute_result"
    }
   ],
   "source": [
    "# take value counts on SN and print the len to get total player count\n",
    "\n",
    "playercount = purchasedataDF[\"SN\"].value_counts()\n",
    "playercount = len(playercount)\n",
    "playercountDF = pd.DataFrame({\"Total Players\":[playercount]})\n",
    "playercountDF"
   ]
  },
  {
   "cell_type": "markdown",
   "metadata": {},
   "source": [
    "Purchasing Analysis (Total)\n",
    "\n",
    "Number of Unique Items\n",
    "\n",
    "Average Purchase Price\n",
    "\n",
    "Total Number of Purchases\n",
    "\n",
    "Total Revenue"
   ]
  },
  {
   "cell_type": "code",
   "execution_count": 97,
   "metadata": {},
   "outputs": [
    {
     "data": {
      "text/plain": [
       "183"
      ]
     },
     "execution_count": 97,
     "metadata": {},
     "output_type": "execute_result"
    }
   ],
   "source": [
    "# number of unique items. Take value count of Item ID and print len to get Item Name Count\n",
    "itemName = purchasedataDF[\"Item ID\"].value_counts()\n",
    "itemcount = len(itemName)\n",
    "itemcount\n"
   ]
  },
  {
   "cell_type": "code",
   "execution_count": 102,
   "metadata": {},
   "outputs": [
    {
     "data": {
      "text/plain": [
       "2.931192307692303"
      ]
     },
     "execution_count": 102,
     "metadata": {},
     "output_type": "execute_result"
    }
   ],
   "source": [
    "#Average Purchase Price. Take the mean of the Price column\n",
    "averageprice = purchasedataDF[\"Price\"].mean()\n",
    "averageprice\n",
    "\n"
   ]
  },
  {
   "cell_type": "code",
   "execution_count": 6,
   "metadata": {},
   "outputs": [
    {
     "data": {
      "text/plain": [
       "780"
      ]
     },
     "execution_count": 6,
     "metadata": {},
     "output_type": "execute_result"
    }
   ],
   "source": [
    "#Total Number of Purchases. Take a count of all Item IDs\n",
    "totalPurchases = purchasedataDF[\"Item ID\"].count()\n",
    "totalPurchases"
   ]
  },
  {
   "cell_type": "code",
   "execution_count": 7,
   "metadata": {},
   "outputs": [
    {
     "data": {
      "text/plain": [
       "2286.3299999999963"
      ]
     },
     "execution_count": 7,
     "metadata": {},
     "output_type": "execute_result"
    }
   ],
   "source": [
    "#Total Revenue\n",
    "totalrevenue = purchasedataDF[\"Price\"].sum()\n",
    "totalrevenue"
   ]
  },
  {
   "cell_type": "code",
   "execution_count": 107,
   "metadata": {},
   "outputs": [
    {
     "data": {
      "text/html": [
       "<div>\n",
       "<style>\n",
       "    .dataframe thead tr:only-child th {\n",
       "        text-align: right;\n",
       "    }\n",
       "\n",
       "    .dataframe thead th {\n",
       "        text-align: left;\n",
       "    }\n",
       "\n",
       "    .dataframe tbody tr th {\n",
       "        vertical-align: top;\n",
       "    }\n",
       "</style>\n",
       "<table border=\"1\" class=\"dataframe\">\n",
       "  <thead>\n",
       "    <tr style=\"text-align: right;\">\n",
       "      <th></th>\n",
       "      <th>Average Price</th>\n",
       "      <th>Number of Purchases</th>\n",
       "      <th>Number of Unique Items</th>\n",
       "      <th>Total Revenue</th>\n",
       "    </tr>\n",
       "  </thead>\n",
       "  <tbody>\n",
       "    <tr>\n",
       "      <th>0</th>\n",
       "      <td>$2.93</td>\n",
       "      <td>780</td>\n",
       "      <td>183</td>\n",
       "      <td>$2,286.33</td>\n",
       "    </tr>\n",
       "  </tbody>\n",
       "</table>\n",
       "</div>"
      ],
      "text/plain": [
       "  Average Price  Number of Purchases  Number of Unique Items Total Revenue\n",
       "0         $2.93                  780                     183     $2,286.33"
      ]
     },
     "execution_count": 107,
     "metadata": {},
     "output_type": "execute_result"
    }
   ],
   "source": [
    "#Create new Data Frame with values and formats\n",
    "purchanalysisDF = pd.DataFrame({\n",
    "    \"Number of Unique Items\":[itemcount],\n",
    "    \"Average Price\":[averageprice],\n",
    "    \"Number of Purchases\":[totalPurchases],\n",
    "    \"Total Revenue\":[totalrevenue]})\n",
    "purchanalysisDF[\"Average Price\"] = purchanalysisDF[\"Average Price\"].map(\"${0:,.2f}\".format)\n",
    "purchanalysisDF[\"Total Revenue\"] = purchanalysisDF[\"Total Revenue\"].map(\"${0:,.2f}\".format)\n",
    "purchanalysisDF\n",
    "                                                "
   ]
  },
  {
   "cell_type": "markdown",
   "metadata": {},
   "source": [
    "Gender Demographics\n",
    "\n",
    "Percentage and Count of Male Players\n",
    "\n",
    "Percentage and Count of Female Players\n",
    "\n",
    "Percentage and Count of Other / Non-Disclosed"
   ]
  },
  {
   "cell_type": "code",
   "execution_count": 108,
   "metadata": {},
   "outputs": [
    {
     "name": "stdout",
     "output_type": "stream",
     "text": [
      "465\n"
     ]
    },
    {
     "data": {
      "text/plain": [
       "0.8115183246073299"
      ]
     },
     "execution_count": 108,
     "metadata": {},
     "output_type": "execute_result"
    }
   ],
   "source": [
    "#percentage and count of male players\n",
    "gender = purchasedataDF.loc[purchasedataDF[\"Gender\"]==\"Male\"]\n",
    "malegender = gender[\"SN\"].value_counts()\n",
    "malecount = len(malegender)\n",
    "print(malecount)\n",
    "\n",
    "percentmale = malecount / playercount\n",
    "percentmale"
   ]
  },
  {
   "cell_type": "code",
   "execution_count": 109,
   "metadata": {},
   "outputs": [
    {
     "name": "stdout",
     "output_type": "stream",
     "text": [
      "100\n"
     ]
    },
    {
     "data": {
      "text/plain": [
       "0.17452006980802792"
      ]
     },
     "execution_count": 109,
     "metadata": {},
     "output_type": "execute_result"
    }
   ],
   "source": [
    "#Percentage and Count of Female Players\n",
    "gender = purchasedataDF.loc[purchasedataDF[\"Gender\"]==\"Female\"]\n",
    "femalegender = gender[\"SN\"].value_counts()\n",
    "femalecount = len(femalegender)\n",
    "print(femalecount)\n",
    "\n",
    "percentfemale = femalecount / playercount\n",
    "percentfemale"
   ]
  },
  {
   "cell_type": "code",
   "execution_count": 110,
   "metadata": {},
   "outputs": [
    {
     "name": "stdout",
     "output_type": "stream",
     "text": [
      "8\n"
     ]
    },
    {
     "data": {
      "text/plain": [
       "0.013961605584642234"
      ]
     },
     "execution_count": 110,
     "metadata": {},
     "output_type": "execute_result"
    }
   ],
   "source": [
    "#Percentage and Count of Other / Non-Disclosed\n",
    "gender = purchasedataDF.loc[purchasedataDF[\"Gender\"] == \"Other / Non-Disclosed\"]\n",
    "othergender = gender[\"SN\"].value_counts()\n",
    "othercount = len(othergender)\n",
    "print(othercount)\n",
    "\n",
    "percentother = othercount / playercount\n",
    "percentother"
   ]
  },
  {
   "cell_type": "code",
   "execution_count": null,
   "metadata": {
    "collapsed": true
   },
   "outputs": [],
   "source": [
    "#Create new Data Frame with Gender Analysis\n",
    "#gendhanalysisDF = pd.DataFrame({\n",
    "#    \"Number of Unique Items\":[itemcount],\n",
    "#    \"Average Price\":[averageprice],\n",
    "#    \"Number of Purchases\":[totalPurchases],\n",
    "#   \"Total Revenue\":[totalrevenue]})\n",
    "#gendhanalysisDF[\"Average Price\"] = purchanalysisDF[\"Average Price\"].map(\"${0:,.2f}\".format)\n",
    "#gendhanalysisDF[\"Total Revenue\"] = purchanalysisDF[\"Total Revenue\"].map(\"${0:,.2f}\".format)\n",
    "#gendhanalysisDF"
   ]
  },
  {
   "cell_type": "markdown",
   "metadata": {},
   "source": [
    "Purchasing Analysis (Gender)\n",
    "\n",
    "The below each broken by gender\n",
    "\n",
    "Purchase Count\n",
    "\n",
    "Average Purchase Price\n",
    "\n",
    "Total Purchase Value\n",
    "\n",
    "Normalized Totals"
   ]
  },
  {
   "cell_type": "code",
   "execution_count": 11,
   "metadata": {},
   "outputs": [
    {
     "name": "stdout",
     "output_type": "stream",
     "text": [
      "633\n",
      "2.9505213270142154\n",
      "1867.6799999999985\n"
     ]
    }
   ],
   "source": [
    "# Male Purchase Count\n",
    "malepurchase = purchasedataDF.loc[purchasedataDF[\"Gender\"] == \"Male\"]\n",
    "malepurchase = malepurchase[\"Item ID\"].count()\n",
    "print(malepurchase)\n",
    "\n",
    "# Male Average Purchase Price\n",
    "maleaverage = purchasedataDF.loc[purchasedataDF[\"Gender\"] == \"Male\"]\n",
    "maleaverage = maleaverage[\"Price\"].mean()\n",
    "print(maleaverage)\n",
    "\n",
    "# Total Purchase Value\n",
    "maletotal = purchasedataDF.loc[purchasedataDF[\"Gender\"] == \"Male\"]\n",
    "maletotal = maletotal[\"Price\"].sum()\n",
    "print(maletotal)\n",
    "\n",
    "# Normalized Male Totals"
   ]
  },
  {
   "cell_type": "code",
   "execution_count": 12,
   "metadata": {},
   "outputs": [
    {
     "name": "stdout",
     "output_type": "stream",
     "text": [
      "136\n",
      "2.815514705882352\n",
      "382.90999999999985\n"
     ]
    }
   ],
   "source": [
    "# Female Purchase Count\n",
    "femalepurchase = purchasedataDF.loc[purchasedataDF[\"Gender\"] == \"Female\"]\n",
    "femalepurchase = femalepurchase[\"Item ID\"].count()\n",
    "print(femalepurchase)\n",
    "\n",
    "# Female Average Purchase Price\n",
    "femaleaverage = purchasedataDF.loc[purchasedataDF[\"Gender\"] == \"Female\"]\n",
    "femaleaverage = femaleaverage[\"Price\"].mean()\n",
    "print(femaleaverage)\n",
    "\n",
    "# Total Female Purchase Value\n",
    "femaletotal = purchasedataDF.loc[purchasedataDF[\"Gender\"] == \"Female\"]\n",
    "femaletotal = femaletotal[\"Price\"].sum()\n",
    "print(femaletotal)\n",
    "\n",
    "# Normalized Female Totals"
   ]
  },
  {
   "cell_type": "code",
   "execution_count": 13,
   "metadata": {},
   "outputs": [
    {
     "name": "stdout",
     "output_type": "stream",
     "text": [
      "11\n",
      "3.2490909090909086\n",
      "35.739999999999995\n"
     ]
    }
   ],
   "source": [
    "# Other Purchase Count\n",
    "otherpurchase = purchasedataDF.loc[purchasedataDF[\"Gender\"] == \"Other / Non-Disclosed\"]\n",
    "otherpurchase = otherpurchase[\"Item ID\"].count()\n",
    "print(otherpurchase)\n",
    "\n",
    "# Other Average Purchase Price\n",
    "otheraverage = purchasedataDF.loc[purchasedataDF[\"Gender\"] == \"Other / Non-Disclosed\"]\n",
    "otheraverage = otheraverage[\"Price\"].mean()\n",
    "print(otheraverage)\n",
    "\n",
    "# Total Other Purchase Value\n",
    "othertotal = purchasedataDF.loc[purchasedataDF[\"Gender\"] == \"Other / Non-Disclosed\"]\n",
    "othertotal = othertotal[\"Price\"].sum()\n",
    "print(othertotal)\n",
    "\n",
    "# Normalized Other Totals"
   ]
  },
  {
   "cell_type": "markdown",
   "metadata": {},
   "source": [
    "Age Demographics\n",
    "\n",
    "The below each broken into bins of 4 years (i.e. <10, 10-14, 15-19, etc.)\n",
    "\n",
    "Purchase Count\n",
    "\n",
    "Average Purchase Price\n",
    "\n",
    "Total Purchase Value\n",
    "\n",
    "Normalized Totals"
   ]
  },
  {
   "cell_type": "code",
   "execution_count": 14,
   "metadata": {
    "collapsed": true
   },
   "outputs": [],
   "source": [
    "# Bins are 0 to 10, 10 to 14, 15 to 19, 20 to 24, 25 to 29, 30 to 34, 35+\n",
    "bins = [0, 10, 15, 20, 25, 30, 35, 100]\n",
    "\n",
    "# Create the names for the bins\n",
    "group_names = ['< 10', '10 - 14', '15 - 19 ', '20 - 24', '25 - 29', '30 - 34', '35 +']\n"
   ]
  },
  {
   "cell_type": "code",
   "execution_count": 15,
   "metadata": {},
   "outputs": [
    {
     "data": {
      "text/html": [
       "<div>\n",
       "<style>\n",
       "    .dataframe thead tr:only-child th {\n",
       "        text-align: right;\n",
       "    }\n",
       "\n",
       "    .dataframe thead th {\n",
       "        text-align: left;\n",
       "    }\n",
       "\n",
       "    .dataframe tbody tr th {\n",
       "        vertical-align: top;\n",
       "    }\n",
       "</style>\n",
       "<table border=\"1\" class=\"dataframe\">\n",
       "  <thead>\n",
       "    <tr style=\"text-align: right;\">\n",
       "      <th></th>\n",
       "      <th>Age</th>\n",
       "      <th>Gender</th>\n",
       "      <th>Item ID</th>\n",
       "      <th>Item Name</th>\n",
       "      <th>Price</th>\n",
       "      <th>SN</th>\n",
       "      <th>Age Group</th>\n",
       "    </tr>\n",
       "  </thead>\n",
       "  <tbody>\n",
       "    <tr>\n",
       "      <th>0</th>\n",
       "      <td>38</td>\n",
       "      <td>Male</td>\n",
       "      <td>165</td>\n",
       "      <td>Bone Crushing Silver Skewer</td>\n",
       "      <td>3.37</td>\n",
       "      <td>Aelalis34</td>\n",
       "      <td>35 +</td>\n",
       "    </tr>\n",
       "    <tr>\n",
       "      <th>1</th>\n",
       "      <td>21</td>\n",
       "      <td>Male</td>\n",
       "      <td>119</td>\n",
       "      <td>Stormbringer, Dark Blade of Ending Misery</td>\n",
       "      <td>2.32</td>\n",
       "      <td>Eolo46</td>\n",
       "      <td>20 - 24</td>\n",
       "    </tr>\n",
       "    <tr>\n",
       "      <th>2</th>\n",
       "      <td>34</td>\n",
       "      <td>Male</td>\n",
       "      <td>174</td>\n",
       "      <td>Primitive Blade</td>\n",
       "      <td>2.46</td>\n",
       "      <td>Assastnya25</td>\n",
       "      <td>30 - 34</td>\n",
       "    </tr>\n",
       "    <tr>\n",
       "      <th>3</th>\n",
       "      <td>21</td>\n",
       "      <td>Male</td>\n",
       "      <td>92</td>\n",
       "      <td>Final Critic</td>\n",
       "      <td>1.36</td>\n",
       "      <td>Pheusrical25</td>\n",
       "      <td>20 - 24</td>\n",
       "    </tr>\n",
       "    <tr>\n",
       "      <th>4</th>\n",
       "      <td>23</td>\n",
       "      <td>Male</td>\n",
       "      <td>63</td>\n",
       "      <td>Stormfury Mace</td>\n",
       "      <td>1.27</td>\n",
       "      <td>Aela59</td>\n",
       "      <td>20 - 24</td>\n",
       "    </tr>\n",
       "  </tbody>\n",
       "</table>\n",
       "</div>"
      ],
      "text/plain": [
       "   Age Gender  Item ID                                  Item Name  Price  \\\n",
       "0   38   Male      165                Bone Crushing Silver Skewer   3.37   \n",
       "1   21   Male      119  Stormbringer, Dark Blade of Ending Misery   2.32   \n",
       "2   34   Male      174                            Primitive Blade   2.46   \n",
       "3   21   Male       92                               Final Critic   1.36   \n",
       "4   23   Male       63                             Stormfury Mace   1.27   \n",
       "\n",
       "             SN Age Group  \n",
       "0     Aelalis34      35 +  \n",
       "1        Eolo46   20 - 24  \n",
       "2   Assastnya25   30 - 34  \n",
       "3  Pheusrical25   20 - 24  \n",
       "4        Aela59   20 - 24  "
      ]
     },
     "execution_count": 15,
     "metadata": {},
     "output_type": "execute_result"
    }
   ],
   "source": [
    "# Cut age and place the scores into bins\n",
    "# append column at the end of original data frame for age group\n",
    "purchasedataDF[\"Age Group\"] = pd.cut(purchasedataDF[\"Age\"], bins, labels=group_names)\n",
    "purchasedataDF.head()"
   ]
  },
  {
   "cell_type": "code",
   "execution_count": 16,
   "metadata": {},
   "outputs": [
    {
     "data": {
      "text/plain": [
       "Age Group\n",
       "10 - 14      78\n",
       "15 - 19     184\n",
       "20 - 24     305\n",
       "25 - 29      76\n",
       "30 - 34      58\n",
       "35 +         47\n",
       "< 10         32\n",
       "Name: Item Name, dtype: int64"
      ]
     },
     "execution_count": 16,
     "metadata": {},
     "output_type": "execute_result"
    }
   ],
   "source": [
    "groupitemcount = purchasedataDF.groupby(\"Age Group\")[\"Item Name\"].count()\n",
    "groupitemcount"
   ]
  },
  {
   "cell_type": "code",
   "execution_count": 17,
   "metadata": {},
   "outputs": [
    {
     "data": {
      "text/plain": [
       "Age Group\n",
       "10 - 14     2.873718\n",
       "15 - 19     2.873587\n",
       "20 - 24     2.959377\n",
       "25 - 29     2.892368\n",
       "30 - 34     3.073448\n",
       "35 +        2.896383\n",
       "< 10        3.019375\n",
       "Name: Price, dtype: float64"
      ]
     },
     "execution_count": 17,
     "metadata": {},
     "output_type": "execute_result"
    }
   ],
   "source": [
    "grouppriceaverage = purchasedataDF.groupby(\"Age Group\")[\"Price\"].mean()\n",
    "grouppriceaverage"
   ]
  },
  {
   "cell_type": "code",
   "execution_count": 18,
   "metadata": {},
   "outputs": [
    {
     "data": {
      "text/plain": [
       "Age Group\n",
       "10 - 14     224.15\n",
       "15 - 19     528.74\n",
       "20 - 24     902.61\n",
       "25 - 29     219.82\n",
       "30 - 34     178.26\n",
       "35 +        136.13\n",
       "< 10         96.62\n",
       "Name: Price, dtype: float64"
      ]
     },
     "execution_count": 18,
     "metadata": {},
     "output_type": "execute_result"
    }
   ],
   "source": [
    "groupsumvalue = purchasedataDF.groupby(\"Age Group\")[\"Price\"].sum()\n",
    "groupsumvalue"
   ]
  },
  {
   "cell_type": "markdown",
   "metadata": {},
   "source": [
    "Top Spenders\n",
    "\n",
    "Identify the the top 5 spenders in the game by total purchase value, then list (in a table):\n",
    "\n",
    "SN\n",
    "\n",
    "Purchase Count\n",
    "\n",
    "Average Purchase Price\n",
    "\n",
    "Total Purchase Value"
   ]
  },
  {
   "cell_type": "code",
   "execution_count": 19,
   "metadata": {
    "collapsed": true
   },
   "outputs": [],
   "source": [
    "# groupby SN, sum the price, and then reset index\n",
    "SNtop5sum = pd.DataFrame(purchasedataDF.groupby(\"SN\")[\"Price\"].sum())\n",
    "SNtop5sum.reset_index(inplace = True)\n"
   ]
  },
  {
   "cell_type": "code",
   "execution_count": 20,
   "metadata": {
    "collapsed": true
   },
   "outputs": [],
   "source": [
    "# groupby SN, count the price, and then reset index\n",
    "SNtop5count = pd.DataFrame(purchasedataDF.groupby(\"SN\")[\"Price\"].count())\n",
    "SNtop5count.reset_index(inplace = True)\n"
   ]
  },
  {
   "cell_type": "code",
   "execution_count": 21,
   "metadata": {
    "collapsed": true
   },
   "outputs": [],
   "source": [
    "# groupby SN, mean of the price, and then reset index\n",
    "SNtop5mean = pd.DataFrame(purchasedataDF.groupby(\"SN\")[\"Price\"].mean())\n",
    "SNtop5mean.reset_index(inplace = True)\n"
   ]
  },
  {
   "cell_type": "code",
   "execution_count": 22,
   "metadata": {},
   "outputs": [
    {
     "data": {
      "text/html": [
       "<div>\n",
       "<style>\n",
       "    .dataframe thead tr:only-child th {\n",
       "        text-align: right;\n",
       "    }\n",
       "\n",
       "    .dataframe thead th {\n",
       "        text-align: left;\n",
       "    }\n",
       "\n",
       "    .dataframe tbody tr th {\n",
       "        vertical-align: top;\n",
       "    }\n",
       "</style>\n",
       "<table border=\"1\" class=\"dataframe\">\n",
       "  <thead>\n",
       "    <tr style=\"text-align: right;\">\n",
       "      <th></th>\n",
       "      <th>SN</th>\n",
       "      <th>Total Purchase Value</th>\n",
       "      <th>Total Count</th>\n",
       "      <th>Average Count</th>\n",
       "    </tr>\n",
       "  </thead>\n",
       "  <tbody>\n",
       "    <tr>\n",
       "      <th>0</th>\n",
       "      <td>Adairialis76</td>\n",
       "      <td>2.46</td>\n",
       "      <td>1</td>\n",
       "      <td>2.460000</td>\n",
       "    </tr>\n",
       "    <tr>\n",
       "      <th>1</th>\n",
       "      <td>Aduephos78</td>\n",
       "      <td>6.70</td>\n",
       "      <td>3</td>\n",
       "      <td>2.233333</td>\n",
       "    </tr>\n",
       "    <tr>\n",
       "      <th>2</th>\n",
       "      <td>Aeduera68</td>\n",
       "      <td>5.80</td>\n",
       "      <td>3</td>\n",
       "      <td>1.933333</td>\n",
       "    </tr>\n",
       "    <tr>\n",
       "      <th>3</th>\n",
       "      <td>Aela49</td>\n",
       "      <td>2.46</td>\n",
       "      <td>1</td>\n",
       "      <td>2.460000</td>\n",
       "    </tr>\n",
       "    <tr>\n",
       "      <th>4</th>\n",
       "      <td>Aela59</td>\n",
       "      <td>1.27</td>\n",
       "      <td>1</td>\n",
       "      <td>1.270000</td>\n",
       "    </tr>\n",
       "  </tbody>\n",
       "</table>\n",
       "</div>"
      ],
      "text/plain": [
       "             SN  Total Purchase Value  Total Count  Average Count\n",
       "0  Adairialis76                  2.46            1       2.460000\n",
       "1    Aduephos78                  6.70            3       2.233333\n",
       "2     Aeduera68                  5.80            3       1.933333\n",
       "3        Aela49                  2.46            1       2.460000\n",
       "4        Aela59                  1.27            1       1.270000"
      ]
     },
     "execution_count": 22,
     "metadata": {},
     "output_type": "execute_result"
    }
   ],
   "source": [
    "# merge sum and count tables together on SN\n",
    "mergeSN = pd.merge(SNtop5sum, SNtop5count, on = \"SN\")\n",
    "\n",
    "# merge the sum/count frame created with the mean on SN\n",
    "mergeSN2 = pd.merge(mergeSN, SNtop5mean, on = \"SN\")\n",
    "\n",
    "#rename columns accordingly and print top 5\n",
    "mergeSN2.columns = [\"SN\",\"Total Purchase Value\", \"Total Count\",\"Average Count\"]\n",
    "mergeSN2.head(5)"
   ]
  },
  {
   "cell_type": "markdown",
   "metadata": {},
   "source": [
    "Most Popular Items\n",
    "\n",
    "\n",
    "Identify the 5 most popular items by purchase count, then list (in a table):\n",
    "\n",
    "Item ID\n",
    "\n",
    "Item Name\n",
    "\n",
    "\n",
    "Purchase Count\n",
    "\n",
    "Item Price\n",
    "\n",
    "Total Purchase Value"
   ]
  },
  {
   "cell_type": "code",
   "execution_count": 23,
   "metadata": {
    "collapsed": true
   },
   "outputs": [],
   "source": [
    "# groupby Item ID, count the price, and then reset index\n",
    "ItemIDcount = pd.DataFrame(purchasedataDF.groupby(\"Item ID\")[\"Price\"].count())\n",
    "ItemIDcount.reset_index(inplace = True)\n"
   ]
  },
  {
   "cell_type": "code",
   "execution_count": 24,
   "metadata": {
    "collapsed": true
   },
   "outputs": [],
   "source": [
    "# groupby Item ID, sum the price, and then reset index\n",
    "ItemIDsum = pd.DataFrame(purchasedataDF.groupby(\"Item ID\")[\"Price\"].sum())\n",
    "ItemIDsum.reset_index(inplace = True)\n"
   ]
  },
  {
   "cell_type": "code",
   "execution_count": 25,
   "metadata": {},
   "outputs": [
    {
     "data": {
      "text/html": [
       "<div>\n",
       "<style>\n",
       "    .dataframe thead tr:only-child th {\n",
       "        text-align: right;\n",
       "    }\n",
       "\n",
       "    .dataframe thead th {\n",
       "        text-align: left;\n",
       "    }\n",
       "\n",
       "    .dataframe tbody tr th {\n",
       "        vertical-align: top;\n",
       "    }\n",
       "</style>\n",
       "<table border=\"1\" class=\"dataframe\">\n",
       "  <thead>\n",
       "    <tr style=\"text-align: right;\">\n",
       "      <th></th>\n",
       "      <th>Item ID</th>\n",
       "      <th>Item Name</th>\n",
       "      <th>Item Price</th>\n",
       "      <th>Purchase Count</th>\n",
       "      <th>Total Purchase Value</th>\n",
       "    </tr>\n",
       "  </thead>\n",
       "  <tbody>\n",
       "    <tr>\n",
       "      <th>435</th>\n",
       "      <td>84</td>\n",
       "      <td>Arcane Gem</td>\n",
       "      <td>2.23</td>\n",
       "      <td>11</td>\n",
       "      <td>24.53</td>\n",
       "    </tr>\n",
       "    <tr>\n",
       "      <th>266</th>\n",
       "      <td>39</td>\n",
       "      <td>Betrayal, Whisper of Grieving Widows</td>\n",
       "      <td>2.35</td>\n",
       "      <td>11</td>\n",
       "      <td>25.85</td>\n",
       "    </tr>\n",
       "    <tr>\n",
       "      <th>160</th>\n",
       "      <td>13</td>\n",
       "      <td>Serenity</td>\n",
       "      <td>1.49</td>\n",
       "      <td>9</td>\n",
       "      <td>13.41</td>\n",
       "    </tr>\n",
       "    <tr>\n",
       "      <th>339</th>\n",
       "      <td>175</td>\n",
       "      <td>Woeful Adamantite Claymore</td>\n",
       "      <td>1.24</td>\n",
       "      <td>9</td>\n",
       "      <td>11.16</td>\n",
       "    </tr>\n",
       "    <tr>\n",
       "      <th>237</th>\n",
       "      <td>31</td>\n",
       "      <td>Trickster</td>\n",
       "      <td>2.07</td>\n",
       "      <td>9</td>\n",
       "      <td>18.63</td>\n",
       "    </tr>\n",
       "  </tbody>\n",
       "</table>\n",
       "</div>"
      ],
      "text/plain": [
       "     Item ID                             Item Name  Item Price  \\\n",
       "435       84                            Arcane Gem        2.23   \n",
       "266       39  Betrayal, Whisper of Grieving Widows        2.35   \n",
       "160       13                              Serenity        1.49   \n",
       "339      175            Woeful Adamantite Claymore        1.24   \n",
       "237       31                             Trickster        2.07   \n",
       "\n",
       "     Purchase Count  Total Purchase Value  \n",
       "435              11                 24.53  \n",
       "266              11                 25.85  \n",
       "160               9                 13.41  \n",
       "339               9                 11.16  \n",
       "237               9                 18.63  "
      ]
     },
     "execution_count": 25,
     "metadata": {},
     "output_type": "execute_result"
    }
   ],
   "source": [
    "#merge ItemID count and sum dataframes\n",
    "mergeItem = pd.merge(ItemIDcount, ItemIDsum, on = \"Item ID\")\n",
    "\n",
    "#create new dataframe with just item ID, item name, and price of item\n",
    "ItemNamePrice = pd.DataFrame(purchasedataDF[[\"Item ID\",\"Item Name\",\"Price\"]])\n",
    "\n",
    "#merge item count/sum table with new dataframe just created to to add the name and price\n",
    "mergeItemTable = pd.merge(ItemNamePrice,mergeItem, on = \"Item ID\")\n",
    "\n",
    "#rename columns and then sort by purchase count\n",
    "mergeItemTable.columns = [\"Item ID\",\"Item Name\", \"Item Price\",\"Purchase Count\",\"Total Purchase Value\"]\n",
    "mergeItemTable = mergeItemTable.sort_values([\"Purchase Count\"], ascending = False)\n",
    "\n",
    "#drop duplicate items and print top 5\n",
    "mergeItemTableDup = mergeItemTable.drop_duplicates()\n",
    "mergeItemTableDup.head()"
   ]
  },
  {
   "cell_type": "markdown",
   "metadata": {},
   "source": [
    "Most Profitable Items\n",
    "\n",
    "\n",
    "Identify the 5 most profitable items by total purchase value, then list (in a table):\n",
    "    \n",
    "Item ID\n",
    "\n",
    "Item Name\n",
    "\n",
    "Purchase Count\n",
    "\n",
    "Item Price\n",
    "\n",
    "Total Purchase Value"
   ]
  },
  {
   "cell_type": "code",
   "execution_count": 26,
   "metadata": {
    "collapsed": true
   },
   "outputs": [],
   "source": [
    "# create new table with price, item id, and item name\n",
    "ProfitTable = pd.DataFrame(purchasedataDF[[\"Price\",\"Item ID\",\"Item Name\"]])\n",
    "ProfitTableDF = ProfitTable.drop_duplicates()"
   ]
  },
  {
   "cell_type": "code",
   "execution_count": 27,
   "metadata": {
    "collapsed": true
   },
   "outputs": [],
   "source": [
    " # groupby  Item ID, count the price, sort by price\n",
    "ProfitCount = pd.DataFrame(purchasedataDF.groupby(\"Item ID\")[\"Price\"].count())\n",
    "ProfitCount.reset_index(inplace = True)"
   ]
  },
  {
   "cell_type": "code",
   "execution_count": 28,
   "metadata": {
    "collapsed": true
   },
   "outputs": [],
   "source": [
    "# groupby Item ID, sum the price, sort by price\n",
    "ProfitSum = pd.DataFrame(purchasedataDF.groupby(\"Item ID\")[\"Price\"].sum())\n",
    "ProfitSum.reset_index(inplace = True)"
   ]
  },
  {
   "cell_type": "code",
   "execution_count": 29,
   "metadata": {},
   "outputs": [
    {
     "data": {
      "text/html": [
       "<div>\n",
       "<style>\n",
       "    .dataframe thead tr:only-child th {\n",
       "        text-align: right;\n",
       "    }\n",
       "\n",
       "    .dataframe thead th {\n",
       "        text-align: left;\n",
       "    }\n",
       "\n",
       "    .dataframe tbody tr th {\n",
       "        vertical-align: top;\n",
       "    }\n",
       "</style>\n",
       "<table border=\"1\" class=\"dataframe\">\n",
       "  <thead>\n",
       "    <tr style=\"text-align: right;\">\n",
       "      <th></th>\n",
       "      <th>Price</th>\n",
       "      <th>Item ID</th>\n",
       "      <th>Item Name</th>\n",
       "      <th>Purchase Count</th>\n",
       "      <th>Total Purchase Value</th>\n",
       "    </tr>\n",
       "  </thead>\n",
       "  <tbody>\n",
       "    <tr>\n",
       "      <th>45</th>\n",
       "      <td>4.95</td>\n",
       "      <td>32</td>\n",
       "      <td>Orenmir</td>\n",
       "      <td>6</td>\n",
       "      <td>29.70</td>\n",
       "    </tr>\n",
       "    <tr>\n",
       "      <th>19</th>\n",
       "      <td>4.89</td>\n",
       "      <td>177</td>\n",
       "      <td>Winterthorn, Defender of Shifting Worlds</td>\n",
       "      <td>4</td>\n",
       "      <td>19.56</td>\n",
       "    </tr>\n",
       "    <tr>\n",
       "      <th>79</th>\n",
       "      <td>4.87</td>\n",
       "      <td>103</td>\n",
       "      <td>Singed Scalpel</td>\n",
       "      <td>6</td>\n",
       "      <td>29.22</td>\n",
       "    </tr>\n",
       "    <tr>\n",
       "      <th>82</th>\n",
       "      <td>4.83</td>\n",
       "      <td>173</td>\n",
       "      <td>Stormfury Longsword</td>\n",
       "      <td>5</td>\n",
       "      <td>24.15</td>\n",
       "    </tr>\n",
       "    <tr>\n",
       "      <th>86</th>\n",
       "      <td>4.82</td>\n",
       "      <td>42</td>\n",
       "      <td>The Decapitator</td>\n",
       "      <td>3</td>\n",
       "      <td>14.46</td>\n",
       "    </tr>\n",
       "  </tbody>\n",
       "</table>\n",
       "</div>"
      ],
      "text/plain": [
       "    Price  Item ID                                 Item Name  Purchase Count  \\\n",
       "45   4.95       32                                   Orenmir               6   \n",
       "19   4.89      177  Winterthorn, Defender of Shifting Worlds               4   \n",
       "79   4.87      103                            Singed Scalpel               6   \n",
       "82   4.83      173                       Stormfury Longsword               5   \n",
       "86   4.82       42                           The Decapitator               3   \n",
       "\n",
       "    Total Purchase Value  \n",
       "45                 29.70  \n",
       "19                 19.56  \n",
       "79                 29.22  \n",
       "82                 24.15  \n",
       "86                 14.46  "
      ]
     },
     "execution_count": 29,
     "metadata": {},
     "output_type": "execute_result"
    }
   ],
   "source": [
    "# merge profit table DF and profit counts on Item ID\n",
    "profitmerge = pd.merge(ProfitTableDF, ProfitCount, on = \"Item ID\")\n",
    "\n",
    "# merge profitmerge and profit sums on Item ID\n",
    "profitmerge2 = pd.merge(profitmerge, ProfitSum, on = \"Item ID\")\n",
    "\n",
    "# rename columns\n",
    "profitmerge2.columns = [\"Price\", \"Item ID\", \"Item Name\", \"Purchase Count\",\"Total Purchase Value\"]\n",
    "\n",
    "# sort on Price and print top 5\n",
    "profitmergeTable = profitmerge2.sort_values([\"Price\"], ascending = False)\n",
    "profitmergeTable.head()"
   ]
  }
 ],
 "metadata": {
  "kernelspec": {
   "display_name": "Python 3",
   "language": "python",
   "name": "python3"
  },
  "language_info": {
   "codemirror_mode": {
    "name": "ipython",
    "version": 3
   },
   "file_extension": ".py",
   "mimetype": "text/x-python",
   "name": "python",
   "nbconvert_exporter": "python",
   "pygments_lexer": "ipython3",
   "version": "3.6.1"
  }
 },
 "nbformat": 4,
 "nbformat_minor": 2
}
