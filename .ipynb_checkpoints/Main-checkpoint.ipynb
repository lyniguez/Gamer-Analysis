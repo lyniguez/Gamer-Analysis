{
 "cells": [
  {
   "cell_type": "code",
   "execution_count": null,
   "metadata": {
    "collapsed": true
   },
   "outputs": [],
   "source": [
    "import pandas as pd\n",
    "import numpy as np"
   ]
  },
  {
   "cell_type": "code",
   "execution_count": null,
   "metadata": {},
   "outputs": [],
   "source": [
    "#import json file\n",
    "purchasedata = \"purchase_data.json\"\n",
    "purchasedataDF = pd.read_json(purchasedata)\n",
    "purchasedataDF\n"
   ]
  },
  {
   "cell_type": "markdown",
   "metadata": {},
   "source": [
    "Player Count\n",
    "Total Number of Players"
   ]
  },
  {
   "cell_type": "code",
   "execution_count": null,
   "metadata": {},
   "outputs": [],
   "source": [
    "#player count\n",
    "\n",
    "playercount = purchasedataDF[\"SN\"].value_counts()\n",
    "playercount = len(playercount)\n",
    "playercount\n"
   ]
  },
  {
   "cell_type": "markdown",
   "metadata": {},
   "source": [
    "Purchasing Analysis (Total)\n",
    "\n",
    "Number of Unique Items\n",
    "\n",
    "Average Purchase Price\n",
    "\n",
    "Total Number of Purchases\n",
    "\n",
    "Total Revenue"
   ]
  },
  {
   "cell_type": "code",
   "execution_count": null,
   "metadata": {},
   "outputs": [],
   "source": [
    "#number of unique items\n",
    "itemName = purchasedataDF[\"Item Name\"].value_counts()\n",
    "itemcount = len(itemName)\n",
    "itemcount\n"
   ]
  },
  {
   "cell_type": "code",
   "execution_count": null,
   "metadata": {},
   "outputs": [],
   "source": [
    "#Average Purchase Price\n",
    "averageprice = purchasedataDF[\"Price\"].mean()\n",
    "averageprice"
   ]
  },
  {
   "cell_type": "code",
   "execution_count": null,
   "metadata": {},
   "outputs": [],
   "source": [
    "#Total Number of Purchases\n",
    "totalPurchases = purchasedataDF[\"Item ID\"].count()\n",
    "totalPurchases"
   ]
  },
  {
   "cell_type": "code",
   "execution_count": null,
   "metadata": {},
   "outputs": [],
   "source": [
    "#Total Revenue\n",
    "totalrevenue = purchasedataDF[\"Price\"].sum()\n",
    "totalrevenue"
   ]
  },
  {
   "cell_type": "markdown",
   "metadata": {},
   "source": [
    "Gender Demographics\n",
    "\n",
    "Percentage and Count of Male Players\n",
    "\n",
    "Percentage and Count of Female Players\n",
    "\n",
    "Percentage and Count of Other / Non-Disclosed"
   ]
  },
  {
   "cell_type": "code",
   "execution_count": null,
   "metadata": {},
   "outputs": [],
   "source": [
    "#percentage and count of male players\n",
    "gender = purchasedataDF.loc[purchasedataDF[\"Gender\"]==\"Male\"]\n",
    "malegender = gender[\"SN\"].value_counts()\n",
    "malecount = len(malegender)\n",
    "malecount"
   ]
  },
  {
   "cell_type": "code",
   "execution_count": null,
   "metadata": {},
   "outputs": [],
   "source": [
    "#Percentage and Count of Female Players\n",
    "gender = purchasedataDF.loc[purchasedataDF[\"Gender\"]==\"Female\"]\n",
    "femalegender = gender[\"SN\"].value_counts()\n",
    "femalecount = len(femalegender)\n",
    "femalecount"
   ]
  },
  {
   "cell_type": "code",
   "execution_count": null,
   "metadata": {},
   "outputs": [],
   "source": [
    "#Percentage and Count of Other / Non-Disclosed\n",
    "gender = purchasedataDF.loc[purchasedataDF[\"Gender\"] == \"Other / Non-Disclosed\"]\n",
    "othergender = gender[\"SN\"].value_counts()\n",
    "othercount = len(othergender)\n",
    "othercount"
   ]
  },
  {
   "cell_type": "markdown",
   "metadata": {},
   "source": [
    "Purchasing Analysis (Gender)\n",
    "\n",
    "The below each broken by gender\n",
    "\n",
    "Purchase Count\n",
    "\n",
    "Average Purchase Price\n",
    "\n",
    "Total Purchase Value\n",
    "\n",
    "Normalized Totals"
   ]
  },
  {
   "cell_type": "code",
   "execution_count": null,
   "metadata": {},
   "outputs": [],
   "source": [
    "# Male Purchase Count\n",
    "malepurchase = purchasedataDF.loc[purchasedataDF[\"Gender\"] == \"Male\"]\n",
    "malepurchase = malepurchase[\"Item ID\"].count()\n",
    "print(malepurchase)\n",
    "\n",
    "# Male Average Purchase Price\n",
    "maleaverage = purchasedataDF.loc[purchasedataDF[\"Gender\"] == \"Male\"]\n",
    "maleaverage = maleaverage[\"Price\"].mean()\n",
    "print(maleaverage)\n",
    "\n",
    "# Total Purchase Value\n",
    "maletotal = purchasedataDF.loc[purchasedataDF[\"Gender\"] == \"Male\"]\n",
    "maletotal = maletotal[\"Price\"].sum()\n",
    "print(maletotal)\n",
    "\n",
    "# Normalized Male Totals"
   ]
  },
  {
   "cell_type": "code",
   "execution_count": null,
   "metadata": {},
   "outputs": [],
   "source": [
    "# Female Purchase Count\n",
    "femalepurchase = purchasedataDF.loc[purchasedataDF[\"Gender\"] == \"Female\"]\n",
    "femalepurchase = femalepurchase[\"Item ID\"].count()\n",
    "print(femalepurchase)\n",
    "\n",
    "# Female Average Purchase Price\n",
    "femaleaverage = purchasedataDF.loc[purchasedataDF[\"Gender\"] == \"Female\"]\n",
    "femaleaverage = femaleaverage[\"Price\"].mean()\n",
    "print(femaleaverage)\n",
    "\n",
    "# Total Female Purchase Value\n",
    "femaletotal = purchasedataDF.loc[purchasedataDF[\"Gender\"] == \"Female\"]\n",
    "femaletotal = femaletotal[\"Price\"].sum()\n",
    "print(femaletotal)\n",
    "\n",
    "# Normalized Female Totals"
   ]
  },
  {
   "cell_type": "code",
   "execution_count": null,
   "metadata": {},
   "outputs": [],
   "source": [
    "# Other Purchase Count\n",
    "otherpurchase = purchasedataDF.loc[purchasedataDF[\"Gender\"] == \"Other / Non-Disclosed\"]\n",
    "otherpurchase = otherpurchase[\"Item ID\"].count()\n",
    "print(otherpurchase)\n",
    "\n",
    "# Other Average Purchase Price\n",
    "otheraverage = purchasedataDF.loc[purchasedataDF[\"Gender\"] == \"Other / Non-Disclosed\"]\n",
    "otheraverage = otheraverage[\"Price\"].mean()\n",
    "print(otheraverage)\n",
    "\n",
    "# Total Other Purchase Value\n",
    "othertotal = purchasedataDF.loc[purchasedataDF[\"Gender\"] == \"Other / Non-Disclosed\"]\n",
    "othertotal = othertotal[\"Price\"].sum()\n",
    "print(othertotal)\n",
    "\n",
    "# Normalized Other Totals"
   ]
  },
  {
   "cell_type": "markdown",
   "metadata": {},
   "source": [
    "Age Demographics\n",
    "\n",
    "The below each broken into bins of 4 years (i.e. <10, 10-14, 15-19, etc.)\n",
    "\n",
    "Purchase Count\n",
    "\n",
    "Average Purchase Price\n",
    "\n",
    "Total Purchase Value\n",
    "\n",
    "Normalized Totals"
   ]
  },
  {
   "cell_type": "code",
   "execution_count": null,
   "metadata": {
    "collapsed": true
   },
   "outputs": [],
   "source": [
    "# Bins are 0 to 10, 10 to 14, 15 to 19, 20 to 24, 25 to 29, 30 to 34, 35+\n",
    "bins = [0, 10, 15, 20, 25, 30, 35, 100]\n",
    "\n",
    "# Create the names for the bins\n",
    "group_names = ['< 10', '10 - 14', '15 - 19 ', '20 - 24', '25 - 29', '30 - 34', '35 +']\n"
   ]
  },
  {
   "cell_type": "code",
   "execution_count": null,
   "metadata": {},
   "outputs": [],
   "source": [
    "# Cut age and place the scores into bins\n",
    "# append column at the end of original data frame for age group\n",
    "purchasedataDF[\"Age Group\"] = pd.cut(purchasedataDF[\"Age\"], bins, labels=group_names)\n",
    "purchasedataDF.head()\n",
    "\n"
   ]
  },
  {
   "cell_type": "code",
   "execution_count": null,
   "metadata": {},
   "outputs": [],
   "source": [
    "groupitemcount = purchasedataDF.groupby(\"Age Group\")[\"Item Name\"].count()\n",
    "groupitemcount"
   ]
  },
  {
   "cell_type": "code",
   "execution_count": null,
   "metadata": {},
   "outputs": [],
   "source": [
    "grouppriceaverage = purchasedataDF.groupby(\"Age Group\")[\"Price\"].mean()\n",
    "grouppriceaverage"
   ]
  },
  {
   "cell_type": "code",
   "execution_count": null,
   "metadata": {},
   "outputs": [],
   "source": [
    "groupsumvalue = purchasedataDF.groupby(\"Age Group\")[\"Price\"].sum()\n",
    "groupsumvalue"
   ]
  },
  {
   "cell_type": "markdown",
   "metadata": {},
   "source": [
    "Top Spenders\n",
    "\n",
    "Identify the the top 5 spenders in the game by total purchase value, then list (in a table):\n",
    "\n",
    "SN\n",
    "\n",
    "Purchase Count\n",
    "\n",
    "Average Purchase Price\n",
    "\n",
    "Total Purchase Value"
   ]
  },
  {
   "cell_type": "code",
   "execution_count": null,
   "metadata": {},
   "outputs": [],
   "source": [
    "    SNtop5sum = pd.DataFrame(purchasedataDF.groupby(\"SN\")[\"Price\"].sum())\n",
    "    SNtop5sum.reset_index(inplace = True)\n",
    "    SNtop5sum = SNtop5sum.sort_values([\"Price\"],ascending = False)\n",
    "    SNtop5sum.head()"
   ]
  },
  {
   "cell_type": "code",
   "execution_count": null,
   "metadata": {},
   "outputs": [],
   "source": [
    "SNtop5count = pd.DataFrame(purchasedataDF.groupby(\"SN\")[\"Price\"].count())\n",
    "SNtop5count.reset_index(inplace = True)\n",
    "SNtop5count = SNtop5count.sort_values([\"Price\"],ascending = False)\n",
    "SNtop5count.head()"
   ]
  },
  {
   "cell_type": "code",
   "execution_count": null,
   "metadata": {},
   "outputs": [],
   "source": [
    "SNtop5mean = pd.DataFrame(purchasedataDF.groupby(\"SN\")[\"Price\"].mean())\n",
    "SNtop5mean.reset_index(inplace = True)\n",
    "SNtop5mean = SNtop5mean.sort_values([\"Price\"],ascending = False)\n",
    "SNtop5mean.head()"
   ]
  },
  {
   "cell_type": "code",
   "execution_count": null,
   "metadata": {},
   "outputs": [],
   "source": [
    "mergeSN = pd.merge(SNtop5sum, SNtop5count, on = \"SN\")\n",
    "mergeSN2 = pd.merge(mergeSN, SNtop5mean, on = \"SN\")\n",
    "mergeSN2.columns = [\"SN\",\"Total Purchase Value\", \"Total Count\",\"Average Count\"]\n",
    "mergeSN2.head(5)"
   ]
  },
  {
   "cell_type": "markdown",
   "metadata": {},
   "source": [
    "Most Popular Items\n",
    "Identify the 5 most popular items by purchase count, then list (in a table):\n",
    "Item ID\n",
    "Item Name\n",
    "\n",
    "Purchase Count\n",
    "Item Price\n",
    "Total Purchase Value"
   ]
  }
 ],
 "metadata": {
  "kernelspec": {
   "display_name": "Python 3",
   "language": "python",
   "name": "python3"
  },
  "language_info": {
   "codemirror_mode": {
    "name": "ipython",
    "version": 3
   },
   "file_extension": ".py",
   "mimetype": "text/x-python",
   "name": "python",
   "nbconvert_exporter": "python",
   "pygments_lexer": "ipython3",
   "version": "3.6.1"
  }
 },
 "nbformat": 4,
 "nbformat_minor": 2
}
